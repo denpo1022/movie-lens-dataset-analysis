{
 "cells": [
  {
   "cell_type": "code",
   "execution_count": 1,
   "metadata": {},
   "outputs": [],
   "source": [
    "import numpy as np\n",
    "import pandas as pd\n",
    "from sklearn.metrics import pairwise_distances\n",
    "from scipy.spatial.distance import cosine, correlation"
   ]
  },
  {
   "cell_type": "code",
   "execution_count": 2,
   "metadata": {},
   "outputs": [],
   "source": [
    "#Loading movielens data\n",
    "\n",
    "#User's data\n",
    "users_cols = ['user_id', 'age', 'sex', 'occupation', 'zip_code']\n",
    "users = pd.read_csv('ml-100k\\\\u.user', sep='|', names=users_cols, parse_dates=True) \n",
    "#Ratings\n",
    "rating_cols = ['user_id', 'movie_id', 'rating', 'unix_timestamp']\n",
    "ratings = pd.read_csv('ml-100k\\\\u.data', sep='\\t', names=rating_cols)\n",
    "#Movies\n",
    "movie_cols = ['movie_id', 'title', 'release_date', 'video_release_date', 'imdb_url']\n",
    "movies = pd.read_csv('ml-100k\\\\u.item', sep='|', names=movie_cols, usecols=range(5),encoding='latin-1')\n",
    "\n",
    "# Merging movie data with their ratings\n",
    "movie_ratings = pd.merge(movies, ratings)\n",
    "\n",
    "# merging movie_ratings data with the User's dataframe\n",
    "df = pd.merge(movie_ratings, users)\n",
    "\n",
    "# pre-processing\n",
    "# dropping colums that aren't needed\n",
    "df.drop(df.columns[[3,4,7]], axis=1, inplace=True)\n",
    "ratings.drop( \"unix_timestamp\", inplace = True, axis = 1 ) \n",
    "movies.drop(movies.columns[[3,4]], inplace = True, axis = 1 )\n",
    "\n",
    "#Pivot Table(This creates a matrix of users and movie_ratings)\n",
    "ratings_matrix = ratings.pivot_table(index=['movie_id'],columns=['user_id'],values='rating').reset_index(drop=True)\n",
    "ratings_matrix.fillna( 0, inplace = True )\n",
    "\n",
    "#Cosine Similarity(Creates a cosine matrix of similaraties ..... which is the pairwise distances\n",
    "# between two items )\n",
    "\n",
    "movie_similarity = 1 - pairwise_distances(ratings_matrix.values, metric=\"cosine\")\n",
    "np.fill_diagonal(movie_similarity, 0) \n",
    "ratings_matrix = pd.DataFrame(movie_similarity)"
   ]
  },
  {
   "cell_type": "code",
   "execution_count": 3,
   "metadata": {},
   "outputs": [
    {
     "name": "stdout",
     "output_type": "stream",
     "text": [
      "Recommended movies based on your choice of  Speed (1994) : \n",
      "      movie_id                                      title release_date  \\\n",
      "384       385                           True Lies (1994)  01-Jan-1994   \n",
      "160       161                             Top Gun (1986)  01-Jan-1986   \n",
      "78         79                       Fugitive, The (1993)  01-Jan-1993   \n",
      "95         96          Terminator 2: Judgment Day (1991)  01-Jan-1991   \n",
      "194       195                     Terminator, The (1984)  01-Jan-1984   \n",
      "173       174             Raiders of the Lost Ark (1981)  01-Jan-1981   \n",
      "209       210  Indiana Jones and the Last Crusade (1989)  01-Jan-1989   \n",
      "549       550          Die Hard: With a Vengeance (1995)  01-Jan-1995   \n",
      "203       204                  Back to the Future (1985)  01-Jan-1985   \n",
      "\n",
      "     similarity  \n",
      "384    0.719504  \n",
      "160    0.707567  \n",
      "78     0.696583  \n",
      "95     0.695556  \n",
      "194    0.676778  \n",
      "173    0.676664  \n",
      "209    0.674811  \n",
      "549    0.674143  \n",
      "203    0.665776  \n"
     ]
    }
   ],
   "source": [
    "#Recommender\n",
    "try:\n",
    "#     user_inp=input('Enter the reference movie title based on which recommendations are to be made: ')\n",
    "    user_inp=\"Speed (1994)\"\n",
    "    inp=movies[movies['title']==user_inp].index.tolist()\n",
    "    inp=inp[0]\n",
    "    \n",
    "    movies['similarity'] = ratings_matrix.iloc[inp]\n",
    "    movies.columns = ['movie_id', 'title', 'release_date','similarity']\n",
    "    movies.head(5)\n",
    "    \n",
    "except:\n",
    "    print(\"Sorry, the movie is not in the database!\")\n",
    "    \n",
    "print(\"Recommended movies based on your choice of \",user_inp ,\": \\n\", movies.sort_values( [\"similarity\"], ascending = False )[1:10])"
   ]
  },
  {
   "cell_type": "code",
   "execution_count": null,
   "metadata": {},
   "outputs": [],
   "source": []
  },
  {
   "cell_type": "code",
   "execution_count": null,
   "metadata": {},
   "outputs": [],
   "source": []
  }
 ],
 "metadata": {
  "kernelspec": {
   "display_name": "Python 3",
   "language": "python",
   "name": "python3"
  },
  "language_info": {
   "codemirror_mode": {
    "name": "ipython",
    "version": 3
   },
   "file_extension": ".py",
   "mimetype": "text/x-python",
   "name": "python",
   "nbconvert_exporter": "python",
   "pygments_lexer": "ipython3",
   "version": "3.8.3"
  }
 },
 "nbformat": 4,
 "nbformat_minor": 4
}
